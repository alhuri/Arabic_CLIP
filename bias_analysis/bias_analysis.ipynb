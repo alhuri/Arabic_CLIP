{
 "cells": [
  {
   "attachments": {},
   "cell_type": "markdown",
   "metadata": {},
   "source": [
    "# Gender analysis"
   ]
  },
  {
   "cell_type": "code",
   "execution_count": 1,
   "metadata": {},
   "outputs": [],
   "source": [
    "import numpy as np\n",
    "import pandas as pd\n",
    "import matplotlib.pyplot as plt\n",
    "import seaborn as sns\n",
    "import plotly.express as px\n",
    "%matplotlib inline"
   ]
  },
  {
   "cell_type": "code",
   "execution_count": 2,
   "metadata": {},
   "outputs": [],
   "source": [
    "import pandas as pd\n",
    "  \n",
    "# reading csv file\n",
    "df = pd.read_csv(\"names.csv\")"
   ]
  },
  {
   "cell_type": "code",
   "execution_count": 3,
   "metadata": {},
   "outputs": [
    {
     "data": {
      "text/html": [
       "<div>\n",
       "<style scoped>\n",
       "    .dataframe tbody tr th:only-of-type {\n",
       "        vertical-align: middle;\n",
       "    }\n",
       "\n",
       "    .dataframe tbody tr th {\n",
       "        vertical-align: top;\n",
       "    }\n",
       "\n",
       "    .dataframe thead th {\n",
       "        text-align: right;\n",
       "    }\n",
       "</style>\n",
       "<table border=\"1\" class=\"dataframe\">\n",
       "  <thead>\n",
       "    <tr style=\"text-align: right;\">\n",
       "      <th></th>\n",
       "      <th>01_prenom</th>\n",
       "      <th>02_genre</th>\n",
       "      <th>03_langage</th>\n",
       "      <th>04_fréquence</th>\n",
       "      <th>trans</th>\n",
       "    </tr>\n",
       "  </thead>\n",
       "  <tbody>\n",
       "    <tr>\n",
       "      <th>0</th>\n",
       "      <td>aaliyah</td>\n",
       "      <td>f</td>\n",
       "      <td>english (modern)</td>\n",
       "      <td>0.0</td>\n",
       "      <td>عاليه</td>\n",
       "    </tr>\n",
       "    <tr>\n",
       "      <th>1</th>\n",
       "      <td>aapeli</td>\n",
       "      <td>m</td>\n",
       "      <td>finnish</td>\n",
       "      <td>0.0</td>\n",
       "      <td>Aapeli</td>\n",
       "    </tr>\n",
       "    <tr>\n",
       "      <th>2</th>\n",
       "      <td>aapo</td>\n",
       "      <td>m</td>\n",
       "      <td>finnish</td>\n",
       "      <td>0.0</td>\n",
       "      <td>AAPO</td>\n",
       "    </tr>\n",
       "    <tr>\n",
       "      <th>3</th>\n",
       "      <td>aaren</td>\n",
       "      <td>m,f</td>\n",
       "      <td>english</td>\n",
       "      <td>0.0</td>\n",
       "      <td>آرين</td>\n",
       "    </tr>\n",
       "    <tr>\n",
       "      <th>4</th>\n",
       "      <td>aarne</td>\n",
       "      <td>m</td>\n",
       "      <td>finnish</td>\n",
       "      <td>0.0</td>\n",
       "      <td>هارن</td>\n",
       "    </tr>\n",
       "    <tr>\n",
       "      <th>...</th>\n",
       "      <td>...</td>\n",
       "      <td>...</td>\n",
       "      <td>...</td>\n",
       "      <td>...</td>\n",
       "      <td>...</td>\n",
       "    </tr>\n",
       "    <tr>\n",
       "      <th>11622</th>\n",
       "      <td>zvi</td>\n",
       "      <td>m</td>\n",
       "      <td>jewish</td>\n",
       "      <td>0.1</td>\n",
       "      <td>زفي</td>\n",
       "    </tr>\n",
       "    <tr>\n",
       "      <th>11623</th>\n",
       "      <td>zvonimir</td>\n",
       "      <td>m</td>\n",
       "      <td>croatian</td>\n",
       "      <td>0.0</td>\n",
       "      <td>Zvonimir</td>\n",
       "    </tr>\n",
       "    <tr>\n",
       "      <th>11624</th>\n",
       "      <td>zvonimira</td>\n",
       "      <td>f</td>\n",
       "      <td>croatian</td>\n",
       "      <td>0.0</td>\n",
       "      <td>Zvonimira</td>\n",
       "    </tr>\n",
       "    <tr>\n",
       "      <th>11625</th>\n",
       "      <td>zvonko</td>\n",
       "      <td>m</td>\n",
       "      <td>croatian</td>\n",
       "      <td>0.0</td>\n",
       "      <td>Zvonko</td>\n",
       "    </tr>\n",
       "    <tr>\n",
       "      <th>11626</th>\n",
       "      <td>zygmunt</td>\n",
       "      <td>m</td>\n",
       "      <td>polish</td>\n",
       "      <td>0.0</td>\n",
       "      <td>Zygmunt</td>\n",
       "    </tr>\n",
       "  </tbody>\n",
       "</table>\n",
       "<p>11627 rows × 5 columns</p>\n",
       "</div>"
      ],
      "text/plain": [
       "       01_prenom 02_genre        03_langage  04_fréquence      trans\n",
       "0        aaliyah        f  english (modern)           0.0      عاليه\n",
       "1         aapeli        m           finnish           0.0     Aapeli\n",
       "2           aapo        m           finnish           0.0       AAPO\n",
       "3          aaren      m,f           english           0.0       آرين\n",
       "4          aarne        m           finnish           0.0       هارن\n",
       "...          ...      ...               ...           ...        ...\n",
       "11622        zvi        m            jewish           0.1        زفي\n",
       "11623   zvonimir        m          croatian           0.0   Zvonimir\n",
       "11624  zvonimira        f          croatian           0.0  Zvonimira\n",
       "11625     zvonko        m          croatian           0.0     Zvonko\n",
       "11626    zygmunt        m            polish           0.0    Zygmunt\n",
       "\n",
       "[11627 rows x 5 columns]"
      ]
     },
     "execution_count": 3,
     "metadata": {},
     "output_type": "execute_result"
    }
   ],
   "source": [
    "df"
   ]
  },
  {
   "cell_type": "code",
   "execution_count": 19,
   "metadata": {},
   "outputs": [
    {
     "name": "stdout",
     "output_type": "stream",
     "text": [
      "Empty DataFrame\n",
      "Columns: [caption, link]\n",
      "Index: []\n"
     ]
    }
   ],
   "source": [
    " \n",
    "# filtering the rows where Credit-Rating is Fair\n",
    "df = df[df['caption'].str.contains(' مفسر ')]\n",
    "print(df)"
   ]
  },
  {
   "cell_type": "code",
   "execution_count": 4,
   "metadata": {},
   "outputs": [],
   "source": [
    "df.to_csv('names.csv', encoding='utf-8-sig')"
   ]
  },
  {
   "attachments": {},
   "cell_type": "markdown",
   "metadata": {},
   "source": [
    "# Domain knowledge"
   ]
  },
  {
   "cell_type": "code",
   "execution_count": 466,
   "metadata": {},
   "outputs": [],
   "source": [
    "# stopwords \n",
    "stopwords = set([\"في\" , \"الى\" , \"من\" , \"على\" , \"او\" , \"متى\" , \"حين\" , \"كان\" , \"يكون\" , \"سوف\" , \"-\" , \n",
    "                 \"الى\" , \"مع\"  , \"هذا\" , \"هذه\" , \"قبل\" , \"بعد\" , \"أن\" , \n",
    "                \"السنة\" , \"اليوم\"  \"بالقرب\" ,\"فوق\" , \"بضع\" , \"عبر\" , \"بجانب\" , \n",
    "                \"خلال\" ,  \".\" , \"اثناء\" , \"اللتي\" , \"الاول\" , \"عن\" , \"التي\" , \"،\" , \"ما\" , \",\" , \"حفل\" , \"أو\", \"لا\" , \n",
    "                \"الي\" , \".\" , \"أثناء\" , \"قد\" , \"قد\" , \"#\" , \"ﺇلى\" , \"الذي\" , \"تم\" , \"غير\" ,  \n",
    "                \"تحت\" ,\"كل\" , \"عند\"  , \",\" \n",
    "                ])"
   ]
  },
  {
   "cell_type": "code",
   "execution_count": 467,
   "metadata": {},
   "outputs": [],
   "source": [
    "# #Arabic translated fromm Prenom & genre de data.gouv.fr \n",
    "# url0 = \"arab.csv\"\n",
    "# names = pd.read_csv(url0, encoding = \"utf-8-sig\", sep=\",\", usecols=[\"gender\", \"translated_name\"], index_col=\"translated_name\")\n",
    "# names = names.to_dict()['gender'] # mapping from name to gender, ex: Anne -> 'f' (or 'm', 'm,f')"
   ]
  },
  {
   "cell_type": "code",
   "execution_count": 468,
   "metadata": {},
   "outputs": [],
   "source": [
    "# women jobs \n",
    "names={}\n",
    "\n",
    "for w in [\"لاعبة\", \"مهندسة\" , \"ربة منزل\" , \"مدرسة\" , \"عالمة\" , \"ممرضة\" , \"مضيفة\" , \"ممثلة\" , \n",
    "          \"أستاذة\" , \"دكتورة\" ,\"محامية\" , \"أميرة\" , \"ملكة\"  ,\"فتاة\" , \"سيدة اعمال\" , \"فنانة\" , \"رسامة\", \"مغنية\" , \n",
    "          \"امرأة\", \"بنت\", \"ابنة\", \"طفلة\", \"ام\", \"جدة\", \"عمة\", \"سيدة\"\n",
    "          \"مصممة\" , \"جراحة\" ,\"بطلة\" , \"مديرة\" , \"عاملة\" , \"خياطة\" ,\"رئيسة\" , \"نائبة\" , \"محاسبة\" , \"محللة\", \"مطورة\" , \n",
    "          \"طبيبة\" , \"مذيعة\" ,\"اعلامية\" , \"مشهورة\" , \"مستشارة\" , \"اخصائية\" ,\"صحفية\" , \"مترجمة\" , \"كاتبة\" , \"روائية\", \"ملحنة\" , \n",
    "          \"مخرجة\" , \"منتجة\" ,\"ناشطة\" , \"متحدثة\" ,\n",
    "]:\n",
    "    names[w] = \"f\""
   ]
  },
  {
   "cell_type": "code",
   "execution_count": 469,
   "metadata": {},
   "outputs": [],
   "source": [
    "# #  men jobs \n",
    "for w in [\"لاعب\", \"مبرمج\", \"مهندس\" , \"طيار\" , \"مدرس\" , \"عالم\" ,\n",
    "          \"ممثل\" , \"مضيف\" , \"رجل اطفاء\" ,\"رجل اعمال\" , \"امير\" , \"محامي\" ,\"الممثل\" , \n",
    "          \"مغني\" , \"فنان\" , \"رسام\" , \"أستاذ\" , \"دكتور\"  , \"الملك\" , \n",
    "          \"رجل\",\"طفل\", \"فتى\", \"صبي\", \"ابن\", \"اب\", \"جد\", \"عم\", \"سيد\",\n",
    "          \"مصمم\" , \"جراح\" ,\"بطل\" , \"مدير\" , \"عامل\" , \"خياط\" ,\"رئيس\" , \"نائب\" , \"محاسب\" , \"محلل\", \"مطور\" , \n",
    "          \"طبيب\" , \"مذيع\" ,\"اعلامي\" , \"مشهور\" , \"مستشار\" , \"اخصائي\" ,\"صحفي\" , \"مترجم\" , \"كاتب\" , \"روائي\", \"ملحن\" , \n",
    "          \"مخرج\" , \"منتج\" ,\"ناشط\" , \"متحدث\" ,\n",
    "          ]:\n",
    "    names[w] = \"m\""
   ]
  },
  {
   "attachments": {},
   "cell_type": "markdown",
   "metadata": {},
   "source": [
    "# 1. Prepare dataset"
   ]
  },
  {
   "cell_type": "code",
   "execution_count": 470,
   "metadata": {},
   "outputs": [],
   "source": [
    "def load_dataset(url: str):\n",
    "    \"\"\"\n",
    "    Args:\n",
    "        url: str, a link pointing a csv file\n",
    "    Returns:\n",
    "        df: pd.DataFrame, a table containing street names as rows (along with lat, long)\n",
    "    \"\"\"\n",
    "    \n",
    "    # read dataset\n",
    "    df = pd.read_csv(url, sep=\",\")\n",
    "    \n",
    "    # keep relevant columns\n",
    "    df = df[['caption']]\n",
    "    \n",
    "    # reset index\n",
    "    df = df.reset_index()\n",
    "    return df"
   ]
  },
  {
   "attachments": {},
   "cell_type": "markdown",
   "metadata": {},
   "source": [
    "# 2. Label names"
   ]
  },
  {
   "cell_type": "code",
   "execution_count": 471,
   "metadata": {},
   "outputs": [],
   "source": [
    "def label_street(name: str):\n",
    "    \"\"\"\n",
    "    Args:\n",
    "        name: str, street name\n",
    "    Returns:\n",
    "        label: int, 0 (no gender), 1 (M), 2 (F), 1.5 (uncertain or mixed H/F)\n",
    "    \"\"\"\n",
    "    \n",
    "    # preprocess string (lower case, remove digits and punctuation)\n",
    "    name = name.lower()\n",
    "    for d in \"0123456789-'\":\n",
    "        name = name.replace(d, ' ')\n",
    "    \n",
    "    # iterate over each street words and return 1 (resp 2) if M (resp F) pattern for first name (prenom A)\n",
    "    for w in name.split():\n",
    "        w = w.strip() # remove extra white spaces\n",
    "        if w not in stopwords and w in names:\n",
    "            gender = names[w]\n",
    "            if gender == 'f':\n",
    "                return 2\n",
    "            elif gender == 'm':\n",
    "                return 1        \n",
    "    return 0 # no label"
   ]
  },
  {
   "cell_type": "code",
   "execution_count": 472,
   "metadata": {},
   "outputs": [
    {
     "data": {
      "text/html": [
       "<div>\n",
       "<style scoped>\n",
       "    .dataframe tbody tr th:only-of-type {\n",
       "        vertical-align: middle;\n",
       "    }\n",
       "\n",
       "    .dataframe tbody tr th {\n",
       "        vertical-align: top;\n",
       "    }\n",
       "\n",
       "    .dataframe thead th {\n",
       "        text-align: right;\n",
       "    }\n",
       "</style>\n",
       "<table border=\"1\" class=\"dataframe\">\n",
       "  <thead>\n",
       "    <tr style=\"text-align: right;\">\n",
       "      <th></th>\n",
       "      <th>index</th>\n",
       "      <th>caption</th>\n",
       "      <th>label</th>\n",
       "    </tr>\n",
       "  </thead>\n",
       "  <tbody>\n",
       "    <tr>\n",
       "      <th>0</th>\n",
       "      <td>0</td>\n",
       "      <td>خارطة للدول المختارة (لون برتقالي) والجيدة (لو...</td>\n",
       "      <td>0</td>\n",
       "    </tr>\n",
       "    <tr>\n",
       "      <th>1</th>\n",
       "      <td>1</td>\n",
       "      <td>خريطة لقارة بانجيا العظمى قبل نحو 250 مليون سن...</td>\n",
       "      <td>0</td>\n",
       "    </tr>\n",
       "    <tr>\n",
       "      <th>2</th>\n",
       "      <td>2</td>\n",
       "      <td>الفرش الصخرية، إحدى أقدم أشكال الحياة الباقية ...</td>\n",
       "      <td>0</td>\n",
       "    </tr>\n",
       "    <tr>\n",
       "      <th>3</th>\n",
       "      <td>3</td>\n",
       "      <td>اصطدام الكويكب الذي يعتقد أنه سبب انقراض العصر...</td>\n",
       "      <td>0</td>\n",
       "    </tr>\n",
       "    <tr>\n",
       "      <th>4</th>\n",
       "      <td>4</td>\n",
       "      <td>دورة حياة الشمس.</td>\n",
       "      <td>0</td>\n",
       "    </tr>\n",
       "    <tr>\n",
       "      <th>...</th>\n",
       "      <td>...</td>\n",
       "      <td>...</td>\n",
       "      <td>...</td>\n",
       "    </tr>\n",
       "    <tr>\n",
       "      <th>237002</th>\n",
       "      <td>237002</td>\n",
       "      <td>جزء من منتوجات بوڤا</td>\n",
       "      <td>0</td>\n",
       "    </tr>\n",
       "    <tr>\n",
       "      <th>237003</th>\n",
       "      <td>237003</td>\n",
       "      <td>X-45A، طائرة دون طيار</td>\n",
       "      <td>1</td>\n",
       "    </tr>\n",
       "    <tr>\n",
       "      <th>237004</th>\n",
       "      <td>237004</td>\n",
       "      <td>صورة جنكيز خان في متحف القصر الوطني في تايبيه،...</td>\n",
       "      <td>0</td>\n",
       "    </tr>\n",
       "    <tr>\n",
       "      <th>237005</th>\n",
       "      <td>237005</td>\n",
       "      <td>كوكبة العقرب كما تخيلها القدماء.</td>\n",
       "      <td>0</td>\n",
       "    </tr>\n",
       "    <tr>\n",
       "      <th>237006</th>\n",
       "      <td>237006</td>\n",
       "      <td>يهود من اليمن 1930-كارل راثجينز</td>\n",
       "      <td>0</td>\n",
       "    </tr>\n",
       "  </tbody>\n",
       "</table>\n",
       "<p>237007 rows × 3 columns</p>\n",
       "</div>"
      ],
      "text/plain": [
       "         index                                            caption  label\n",
       "0            0  خارطة للدول المختارة (لون برتقالي) والجيدة (لو...      0\n",
       "1            1  خريطة لقارة بانجيا العظمى قبل نحو 250 مليون سن...      0\n",
       "2            2  الفرش الصخرية، إحدى أقدم أشكال الحياة الباقية ...      0\n",
       "3            3  اصطدام الكويكب الذي يعتقد أنه سبب انقراض العصر...      0\n",
       "4            4                                   دورة حياة الشمس.      0\n",
       "...        ...                                                ...    ...\n",
       "237002  237002                                جزء من منتوجات بوڤا      0\n",
       "237003  237003                              X-45A، طائرة دون طيار      1\n",
       "237004  237004  صورة جنكيز خان في متحف القصر الوطني في تايبيه،...      0\n",
       "237005  237005                   كوكبة العقرب كما تخيلها القدماء.      0\n",
       "237006  237006                    يهود من اليمن 1930-كارل راثجينز      0\n",
       "\n",
       "[237007 rows x 3 columns]"
      ]
     },
     "execution_count": 472,
     "metadata": {},
     "output_type": "execute_result"
    }
   ],
   "source": [
    "# Test names\n",
    "url = \"mydata.csv\"\n",
    "df = load_dataset(url)\n",
    "df[\"label\"] = df['caption'].apply(label_street)\n",
    "df"
   ]
  },
  {
   "cell_type": "code",
   "execution_count": 473,
   "metadata": {},
   "outputs": [],
   "source": [
    "df1=df[df[\"label\"]==2.0]"
   ]
  },
  {
   "cell_type": "code",
   "execution_count": 474,
   "metadata": {},
   "outputs": [
    {
     "data": {
      "text/html": [
       "<div>\n",
       "<style scoped>\n",
       "    .dataframe tbody tr th:only-of-type {\n",
       "        vertical-align: middle;\n",
       "    }\n",
       "\n",
       "    .dataframe tbody tr th {\n",
       "        vertical-align: top;\n",
       "    }\n",
       "\n",
       "    .dataframe thead th {\n",
       "        text-align: right;\n",
       "    }\n",
       "</style>\n",
       "<table border=\"1\" class=\"dataframe\">\n",
       "  <thead>\n",
       "    <tr style=\"text-align: right;\">\n",
       "      <th></th>\n",
       "      <th>index</th>\n",
       "      <th>caption</th>\n",
       "      <th>label</th>\n",
       "    </tr>\n",
       "  </thead>\n",
       "  <tbody>\n",
       "    <tr>\n",
       "      <th>92</th>\n",
       "      <td>92</td>\n",
       "      <td>لوحة نزول ملكة سبأ، تظهر فيها بلقيس، أشهر ملكا...</td>\n",
       "      <td>2</td>\n",
       "    </tr>\n",
       "    <tr>\n",
       "      <th>301</th>\n",
       "      <td>301</td>\n",
       "      <td>المكتبة الظاهرية في المدينة، وقد بناها الظاهر ...</td>\n",
       "      <td>2</td>\n",
       "    </tr>\n",
       "    <tr>\n",
       "      <th>329</th>\n",
       "      <td>329</td>\n",
       "      <td>إليزابيث بلاكويل، أول طبيبة تحصل على شهادة الط...</td>\n",
       "      <td>2</td>\n",
       "    </tr>\n",
       "    <tr>\n",
       "      <th>417</th>\n",
       "      <td>417</td>\n",
       "      <td>كليوباترا السابعة أخر ملكة من الأسرة المقدونية.</td>\n",
       "      <td>2</td>\n",
       "    </tr>\n",
       "    <tr>\n",
       "      <th>482</th>\n",
       "      <td>482</td>\n",
       "      <td>مدرسة فرعونية قديمة.</td>\n",
       "      <td>2</td>\n",
       "    </tr>\n",
       "    <tr>\n",
       "      <th>...</th>\n",
       "      <td>...</td>\n",
       "      <td>...</td>\n",
       "      <td>...</td>\n",
       "    </tr>\n",
       "    <tr>\n",
       "      <th>236775</th>\n",
       "      <td>236775</td>\n",
       "      <td>مدرسة ييتس الثانوية (حرم 1958 الحالي في الصورة...</td>\n",
       "      <td>2</td>\n",
       "    </tr>\n",
       "    <tr>\n",
       "      <th>236780</th>\n",
       "      <td>236780</td>\n",
       "      <td>تحولت إميلي رويتي ابنة سعيد بن سلطان إلى المسي...</td>\n",
       "      <td>2</td>\n",
       "    </tr>\n",
       "    <tr>\n",
       "      <th>236813</th>\n",
       "      <td>236813</td>\n",
       "      <td>عربات ال أس-300 بي ام يو-2.</td>\n",
       "      <td>2</td>\n",
       "    </tr>\n",
       "    <tr>\n",
       "      <th>236851</th>\n",
       "      <td>236851</td>\n",
       "      <td>مبنى نادي زويف، موسكو (1926) لغولوسوف، أحد أهم...</td>\n",
       "      <td>2</td>\n",
       "    </tr>\n",
       "    <tr>\n",
       "      <th>236924</th>\n",
       "      <td>236924</td>\n",
       "      <td>جانيت اكيوز ماتيي، 2009، عالمة فلك.</td>\n",
       "      <td>2</td>\n",
       "    </tr>\n",
       "  </tbody>\n",
       "</table>\n",
       "<p>2455 rows × 3 columns</p>\n",
       "</div>"
      ],
      "text/plain": [
       "         index                                            caption  label\n",
       "92          92  لوحة نزول ملكة سبأ، تظهر فيها بلقيس، أشهر ملكا...      2\n",
       "301        301  المكتبة الظاهرية في المدينة، وقد بناها الظاهر ...      2\n",
       "329        329  إليزابيث بلاكويل، أول طبيبة تحصل على شهادة الط...      2\n",
       "417        417    كليوباترا السابعة أخر ملكة من الأسرة المقدونية.      2\n",
       "482        482                               مدرسة فرعونية قديمة.      2\n",
       "...        ...                                                ...    ...\n",
       "236775  236775  مدرسة ييتس الثانوية (حرم 1958 الحالي في الصورة...      2\n",
       "236780  236780  تحولت إميلي رويتي ابنة سعيد بن سلطان إلى المسي...      2\n",
       "236813  236813                        عربات ال أس-300 بي ام يو-2.      2\n",
       "236851  236851  مبنى نادي زويف، موسكو (1926) لغولوسوف، أحد أهم...      2\n",
       "236924  236924                جانيت اكيوز ماتيي، 2009، عالمة فلك.      2\n",
       "\n",
       "[2455 rows x 3 columns]"
      ]
     },
     "execution_count": 474,
     "metadata": {},
     "output_type": "execute_result"
    }
   ],
   "source": [
    "df1"
   ]
  },
  {
   "attachments": {},
   "cell_type": "markdown",
   "metadata": {},
   "source": [
    "# 3. Analysis"
   ]
  },
  {
   "attachments": {},
   "cell_type": "markdown",
   "metadata": {},
   "source": [
    "## 3.1 Names distribution"
   ]
  },
  {
   "cell_type": "code",
   "execution_count": 475,
   "metadata": {},
   "outputs": [],
   "source": [
    "def get_sorted_vocab(corpus):\n",
    "    \"\"\"\n",
    "    Args:\n",
    "        corpus: list of str\n",
    "    Returns:\n",
    "        vocab: list of str, words in corpus\n",
    "        counts: list of int, word counts\n",
    "    \"\"\"\n",
    "    \n",
    "    # save word counts as a dictionnary\n",
    "    counts_dict = {}\n",
    "    for name in corpus:\n",
    "        for w in name.split():\n",
    "            w = w.lower().strip()\n",
    "            if w not in stopwords and len(w)>0:\n",
    "                if w in counts_dict:\n",
    "                    counts_dict[w] +=1\n",
    "                else:\n",
    "                    counts_dict[w] =1\n",
    "                    \n",
    "    # sort vocabulary by counts\n",
    "    names = np.array(list(counts_dict.keys()))\n",
    "    counts = np.array(list(counts_dict.values()))\n",
    "    sorted_idx = np.argsort(counts)[::-1]\n",
    "    return names[sorted_idx], counts[sorted_idx], counts_dict"
   ]
  },
  {
   "cell_type": "code",
   "execution_count": 476,
   "metadata": {},
   "outputs": [
    {
     "name": "stdout",
     "output_type": "stream",
     "text": [
      "301519 words found\n",
      " 124287 words occur 2+ times (total counts 1794127)\n",
      " احمد in vocab: True\n"
     ]
    }
   ],
   "source": [
    "# get vocabulary and word counts\n",
    "corpus = df['caption'].values \n",
    "vocab, counts, counts_dict = get_sorted_vocab(corpus)\n",
    "print('{} words found'.format(len(counts)))\n",
    "print(' {} words occur 2+ times (total counts {})'.format(len([c for c in counts if c>1]), sum([c for c in counts if c>1])))\n",
    "print(\" احمد in vocab:\", \"احمد\" in vocab) # test if name in vocab"
   ]
  },
  {
   "cell_type": "code",
   "execution_count": 477,
   "metadata": {},
   "outputs": [
    {
     "name": "stdout",
     "output_type": "stream",
     "text": [
      " احمد in vocab: True\n"
     ]
    }
   ],
   "source": [
    "print(\" احمد in vocab:\", \"احمد\" in vocab) # test if name in vocab"
   ]
  },
  {
   "attachments": {},
   "cell_type": "markdown",
   "metadata": {},
   "source": [
    "### 3.1.1 Women vs Men names in the top 50 and top 100"
   ]
  },
  {
   "cell_type": "code",
   "execution_count": 478,
   "metadata": {},
   "outputs": [],
   "source": [
    "def print_stats_topk(k: int = 100):\n",
    "    sorted_labels = [label_street(w) for w in vocab if label_street(w) in [1.0, 2.0]]\n",
    "    topk_m = len([l for l in sorted_labels[:k] if l == 1.0])\n",
    "    topk_f = len([l for l in sorted_labels[:k] if l == 2.0])\n",
    "    ratio_topk = 100*topk_f/(topk_m+topk_f)\n",
    "    print(\"Top{} names 'F' = {} vs. 'M' = {} ({:.1f}% representativeness)\".format(k, topk_f, topk_m, ratio_topk))"
   ]
  },
  {
   "cell_type": "code",
   "execution_count": 479,
   "metadata": {},
   "outputs": [
    {
     "name": "stdout",
     "output_type": "stream",
     "text": [
      "Top50 names 'F' = 18 vs. 'M' = 32 (36.0% representativeness)\n",
      "Top100 names 'F' = 45 vs. 'M' = 55 (45.0% representativeness)\n",
      "Top237006 names 'F' = 53 vs. 'M' = 59 (47.3% representativeness)\n"
     ]
    }
   ],
   "source": [
    "print_stats_topk(k=50)\n",
    "print_stats_topk(k=100)\n",
    "print_stats_topk(k=237006)"
   ]
  },
  {
   "attachments": {},
   "cell_type": "markdown",
   "metadata": {},
   "source": [
    "Top50 names 'F' = 21 vs. 'M' = 29 (42.0% representativeness)\n",
    "Top100 names 'F' = 35 vs. 'M' = 65 (35.0% representativeness)\n",
    "\n"
   ]
  },
  {
   "attachments": {},
   "cell_type": "markdown",
   "metadata": {},
   "source": [
    "### 3.1.2 Word distribution and gender bias"
   ]
  },
  {
   "cell_type": "code",
   "execution_count": 480,
   "metadata": {},
   "outputs": [],
   "source": [
    "# import arabic_reshaper\n",
    "# from bidi.algorithm import get_display\n",
    "# x = [ ]\n",
    "\n",
    "# for item in vocab:\n",
    "#     x.append(get_display(arabic_reshaper.reshape(item)))"
   ]
  },
  {
   "cell_type": "code",
   "execution_count": 481,
   "metadata": {},
   "outputs": [],
   "source": [
    "# plot power law, long tail distribution and bias (color blue M, red W, gray No Label)\n",
    "\n",
    "def plot_word_distr(offset: int = 0, limit: int = 30):\n",
    "    plt.figure(1, figsize=(15,5))\n",
    "    color = {0: \"gray\", 1: \"blue\", 2: \"red\"}\n",
    "    colors = [color[label_street(w)] for w in x[offset:offset+limit]]\n",
    "    plt.scatter(np.arange(limit), counts[offset:offset+limit], c=colors)\n",
    "    plt.plot(counts[offset:offset+limit], color=\"gray\", linestyle='dashed')\n",
    "    plt.xticks(np.arange(limit), x[offset:offset+limit], rotation=45)\n",
    "    for ticklabel, tickcolor in zip(plt.gca().get_xticklabels(), colors):\n",
    "        ticklabel.set_color(tickcolor)\n",
    "    plt.ylabel(\"counts\")\n",
    "    plt.title(\"Common Gender-related words sorted by counts ({}-{})\".format(offset,offset+limit))\n",
    "    plt.show()"
   ]
  },
  {
   "cell_type": "code",
   "execution_count": 482,
   "metadata": {
    "scrolled": false
   },
   "outputs": [
    {
     "data": {
      "image/png": "[encoded data removed]",
      "text/plain": [
       "<Figure size 1080x360 with 1 Axes>"
      ]
     },
     "metadata": {},
     "output_type": "display_data"
    }
   ],
   "source": [
    "plot_word_distr(offset=0, limit=30)\n"
   ]
  }
 ],
 "metadata": {
  "kernelspec": {
   "display_name": "Python 3 (ipykernel)",
   "language": "python",
   "name": "python3"
  },
  "language_info": {
   "codemirror_mode": {
    "name": "ipython",
    "version": 3
   },
   "file_extension": ".py",
   "mimetype": "text/x-python",
   "name": "python",
   "nbconvert_exporter": "python",
   "pygments_lexer": "ipython3",
   "version": "3.7.9"
  }
 },
 "nbformat": 4,
 "nbformat_minor": 2
}
